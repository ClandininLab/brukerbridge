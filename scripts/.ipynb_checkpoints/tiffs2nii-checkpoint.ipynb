{
 "cells": [
  {
   "cell_type": "code",
   "execution_count": 1,
   "metadata": {},
   "outputs": [],
   "source": [
    "import os\n",
    "import glob\n",
    "\n",
    "import numpy as np\n",
    "from skimage import io\n",
    "import matplotlib.pyplot as plt\n",
    "from tqdm import tqdm"
   ]
  },
  {
   "cell_type": "code",
   "execution_count": 3,
   "metadata": {},
   "outputs": [
    {
     "data": {
      "text/plain": [
       "'C:\\\\Users\\\\User\\\\projects\\\\brukerbridge\\\\scripts'"
      ]
     },
     "execution_count": 3,
     "metadata": {},
     "output_type": "execute_result"
    }
   ],
   "source": [
    "os.getcwd()"
   ]
  },
  {
   "cell_type": "code",
   "execution_count": 10,
   "metadata": {},
   "outputs": [
    {
     "data": {
      "text/plain": [
       "True"
      ]
     },
     "execution_count": 10,
     "metadata": {},
     "output_type": "execute_result"
    }
   ],
   "source": [
    "data_directory = \"H:\\\\Alex\\\\221017_bot\\\\RFmap\\\\BrightnessOverTime-20221017-001\"\n",
    "tif_list = glob.glob(os.path.join(data_directory, '*.ome.tif'))\n",
    "\n",
    "sorted_tif_list = sorted(tif_list, key=lambda x: int(x.split('.')[0][-6:]))\n",
    "tif_file_number = [int(t.split('.')[0][-6:]) for t in sorted_tif_list]\n",
    "np.allclose(np.diff(tif_file_number), 1)"
   ]
  },
  {
   "cell_type": "code",
   "execution_count": 12,
   "metadata": {},
   "outputs": [
    {
     "data": {
      "text/plain": [
       "'H:\\\\Alex\\\\221017_bot\\\\RFmap\\\\BrightnessOverTime-20221017-001\\\\BrightnessOverTime-20221017-001_Cycle00001_Ch1_000001.ome.tif'"
      ]
     },
     "execution_count": 12,
     "metadata": {},
     "output_type": "execute_result"
    }
   ],
   "source": [
    "sorted_tif_list.pop(0)"
   ]
  },
  {
   "cell_type": "code",
   "execution_count": 13,
   "metadata": {},
   "outputs": [
    {
     "name": "stderr",
     "output_type": "stream",
     "text": [
      "c:\\users\\user\\appdata\\local\\programs\\python\\python37\\lib\\site-packages\\skimage\\external\\tifffile\\tifffile.py:3759: RuntimeWarning: invalid value encountered in true_divide\n",
      "  'z_distance': values[:, 0] / values[:, 1],\n",
      "c:\\users\\user\\appdata\\local\\programs\\python\\python37\\lib\\site-packages\\skimage\\external\\tifffile\\tifffile.py:1752: UserWarning: ome-xml: not an ome-tiff master file\n",
      "  warnings.warn(\"ome-xml: not an ome-tiff master file\")\n",
      "100%|████████████████████████████████████████████████████████████████████████████████████████████████████████████████████████████| 18785/18785 [00:15<00:00, 1196.50it/s]\n"
     ]
    }
   ],
   "source": [
    "tifs = [io.imread(sorted_tif_list[0])]\n",
    "for f in tqdm(sorted_tif_list):\n",
    "    tifs.append(io.imread(f))"
   ]
  },
  {
   "cell_type": "code",
   "execution_count": 14,
   "metadata": {},
   "outputs": [],
   "source": [
    "tif_stack = np.array(tifs)"
   ]
  },
  {
   "cell_type": "code",
   "execution_count": 17,
   "metadata": {},
   "outputs": [],
   "source": [
    "save_name = os.path.join(data_directory, data_directory.split('\\\\')[-1]+'.tif')\n",
    "io.imsave(save_name, tif_stack)"
   ]
  },
  {
   "cell_type": "code",
   "execution_count": 16,
   "metadata": {},
   "outputs": [
    {
     "data": {
      "text/plain": [
       "(18786, 80, 280)"
      ]
     },
     "execution_count": 16,
     "metadata": {},
     "output_type": "execute_result"
    }
   ],
   "source": [
    "tif_stack.shape"
   ]
  },
  {
   "cell_type": "code",
   "execution_count": 18,
   "metadata": {},
   "outputs": [
    {
     "ename": "ModuleNotFoundError",
     "evalue": "No module named 'pystackreg'",
     "output_type": "error",
     "traceback": [
      "\u001b[1;31m---------------------------------------------------------------------------\u001b[0m",
      "\u001b[1;31mModuleNotFoundError\u001b[0m                       Traceback (most recent call last)",
      "\u001b[1;32m<ipython-input-18-35bac193263e>\u001b[0m in \u001b[0;36m<module>\u001b[1;34m\u001b[0m\n\u001b[1;32m----> 1\u001b[1;33m \u001b[1;32mfrom\u001b[0m \u001b[0mpystackreg\u001b[0m \u001b[1;32mimport\u001b[0m \u001b[0mStackReg\u001b[0m\u001b[1;33m\u001b[0m\u001b[0m\n\u001b[0m",
      "\u001b[1;31mModuleNotFoundError\u001b[0m: No module named 'pystackreg'"
     ]
    }
   ],
   "source": [
    "from pystackreg import StackReg "
   ]
  },
  {
   "cell_type": "code",
   "execution_count": null,
   "metadata": {},
   "outputs": [],
   "source": []
  }
 ],
 "metadata": {
  "kernelspec": {
   "display_name": "Python 3",
   "language": "python",
   "name": "python3"
  },
  "language_info": {
   "codemirror_mode": {
    "name": "ipython",
    "version": 3
   },
   "file_extension": ".py",
   "mimetype": "text/x-python",
   "name": "python",
   "nbconvert_exporter": "python",
   "pygments_lexer": "ipython3",
   "version": "3.7.0"
  }
 },
 "nbformat": 4,
 "nbformat_minor": 2
}
